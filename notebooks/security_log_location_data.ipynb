{
 "cells": [
  {
   "cell_type": "code",
   "execution_count": 129,
   "id": "507fd527-31a6-43b1-a407-9519ddce155c",
   "metadata": {},
   "outputs": [],
   "source": [
    "import pandas as pd\n",
    "from datetime import datetime\n"
   ]
  },
  {
   "cell_type": "code",
   "execution_count": 87,
   "id": "6cd74cb8-0d4a-424a-addc-1d8ffdf8d2ea",
   "metadata": {},
   "outputs": [],
   "source": [
    "location_data = pd.read_csv(\"data/location_data.csv\")\n",
    "\n",
    "people_data = pd.read_csv(\"data/people_data.csv\")\n",
    "\n",
    "security_log_Data = pd.read_csv(\"data/security_logs.csv\")"
   ]
  },
  {
   "cell_type": "code",
   "execution_count": 179,
   "id": "f2a0707c-964a-4607-9535-4802e2c17e02",
   "metadata": {},
   "outputs": [],
   "source": [
    "def time_not_in_range(start, current, end):\n",
    "    \"\"\"Returns whether current is in the range [start, end]\"\"\"\n",
    "    \n",
    "    return start > current or current > end"
   ]
  },
  {
   "cell_type": "code",
   "execution_count": 89,
   "id": "bc1317eb-af13-4aab-be1f-9d6bbc36f6b6",
   "metadata": {},
   "outputs": [],
   "source": [
    "location_data['Geolocation'] = location_data['Geolocation'].map(lambda x: x.lstrip('{').rstrip('}'))\n",
    "coord_df = pd.DataFrame(location_data.Geolocation.str.split(\" \").tolist(), columns=['lat','lon'])\n",
    "location_data = location_data.drop(['Geolocation'], axis=1)\n",
    "location_data[\"lat\"] = coord_df[\"lat\"]\n",
    "location_data[\"lon\"] = coord_df[\"lon\"]\n",
    "security_location_data = security_log_Data.merge(location_data, right_on=\"Building Name\", left_on=\"Location\")"
   ]
  },
  {
   "cell_type": "code",
   "execution_count": 183,
   "id": "e0f72c4b-cdbd-4ea0-a7c8-dfd11ad0dfc4",
   "metadata": {},
   "outputs": [
    {
     "name": "stdout",
     "output_type": "stream",
     "text": [
      "Abdul Murphy was at the Boyd Orr Building after closing time from 22:08:00 to 22:19:00. The Boyd Orr Building opening times are 2208-2219.\n"
     ]
    }
   ],
   "source": [
    "for i in security_location_data.values:\n",
    "    time_list = i[3].split('-')\n",
    "    opening_time_list = i[5].split('-')\n",
    "        \n",
    "    time_start = datetime(year=2020, month=1, day=1, hour=int(time_list[0].lstrip()[:2]), minute=int(time_list[0].lstrip()[2:]))\n",
    "    \n",
    "\n",
    "    if int(time_list[0].lstrip()) == int(time_list[1]): \n",
    "        day = 3\n",
    "    elif int(time_list[0].lstrip()) > int(time_list[1]): \n",
    "        day = 2\n",
    "    else:\n",
    "        day = 1\n",
    "        \n",
    "    time_end = datetime(year=2020, month=1, day=day, hour=int(time_list[1][:2]), minute=int(time_list[1][2:]))\n",
    "    \n",
    "    ###\n",
    "    \n",
    "    opening_time_start = datetime(year=2020, month=1, day=1, hour=int(opening_time_list[0].lstrip()[:2]), minute=int(opening_time_list[0].lstrip()[2:]))\n",
    "    \n",
    "\n",
    "    if int(opening_time_list[0].lstrip()) == int(opening_time_list[1]): \n",
    "        day = 3\n",
    "    elif int(opening_time_list[0].lstrip()) >= int(opening_time_list[1]): \n",
    "        day = 2\n",
    "    else:\n",
    "        day = 1\n",
    "        \n",
    "    opening_time_end = datetime(year=2020, month=1, day=day, hour=int(opening_time_list[1][:2]), minute=int(opening_time_list[1][2:]))\n",
    "    \n",
    "    if time_not_in_range(opening_time_start, time_start,opening_time_end) or time_not_in_range(opening_time_start, time_end,opening_time_end):\n",
    "        print(f\"{i[1]} was at the {i[2]} after closing time from {time_start.time()} to {time_end.time()}. The {i[2]} opening times are {i[3]}.\")"
   ]
  },
  {
   "cell_type": "code",
   "execution_count": null,
   "id": "96985e18-b100-4268-b8b1-32f32d858290",
   "metadata": {},
   "outputs": [],
   "source": []
  }
 ],
 "metadata": {
  "kernelspec": {
   "display_name": "Python 3 (ipykernel)",
   "language": "python",
   "name": "python3"
  },
  "language_info": {
   "codemirror_mode": {
    "name": "ipython",
    "version": 3
   },
   "file_extension": ".py",
   "mimetype": "text/x-python",
   "name": "python",
   "nbconvert_exporter": "python",
   "pygments_lexer": "ipython3",
   "version": "3.9.12"
  }
 },
 "nbformat": 4,
 "nbformat_minor": 5
}
